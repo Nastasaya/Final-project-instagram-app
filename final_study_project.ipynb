{
 "cells": [
  {
   "cell_type": "code",
   "execution_count": 1,
   "metadata": {},
   "outputs": [],
   "source": [
    "from scipy.stats import ttest_ind, mannwhitneyu, chi2_contingency\n",
    "import pandas as pd\n",
    "import scipy.stats as ss\n",
    "import seaborn as sns"
   ]
  },
  {
   "cell_type": "markdown",
   "metadata": {},
   "source": [
    "Проект: вариант 4\n",
    "\n",
    " Задание 1\n",
    "Представьте, что вы аналитик в компании, которая разрабатывает приложение для обработки и оформления фотографий в формате Stories (например, для дальнейшего экспорта в Instagram Stories). Был проведен A/B тест: тестовой группе предлагалась новая модель оплаты коллекций шаблонов, контрольной – старая механика. Ваша основная задача: проанализировать итоги эксперимента и решить, нужно ли выкатывать новую модель на остальных пользователей.\n",
    "\n",
    "В ходе отчета обоснуйте выбор метрик, на которые вы обращаете внимание. Если различия есть, то объясните, с чем они могут быть связаны и являются ли значимыми.\n",
    "\n",
    "Данные:\n",
    "\n",
    "- active_users – информация о пользователях, которые посещали приложение во время эксперимента. \n",
    "- groups – разбивка пользователей на контрольную (А) и тестовую (В) группы. \n",
    "- purchases – данные о транзакциях (оплатах) пользователей приложения во время эксперимента "
   ]
  },
  {
   "cell_type": "code",
   "execution_count": 2,
   "metadata": {},
   "outputs": [
    {
     "data": {
      "text/html": [
       "<div>\n",
       "<style scoped>\n",
       "    .dataframe tbody tr th:only-of-type {\n",
       "        vertical-align: middle;\n",
       "    }\n",
       "\n",
       "    .dataframe tbody tr th {\n",
       "        vertical-align: top;\n",
       "    }\n",
       "\n",
       "    .dataframe thead th {\n",
       "        text-align: right;\n",
       "    }\n",
       "</style>\n",
       "<table border=\"1\" class=\"dataframe\">\n",
       "  <thead>\n",
       "    <tr style=\"text-align: right;\">\n",
       "      <th></th>\n",
       "      <th>user_id</th>\n",
       "      <th>country</th>\n",
       "      <th>platform</th>\n",
       "      <th>sex</th>\n",
       "    </tr>\n",
       "  </thead>\n",
       "  <tbody>\n",
       "    <tr>\n",
       "      <th>0</th>\n",
       "      <td>8029</td>\n",
       "      <td>Russia</td>\n",
       "      <td>ios</td>\n",
       "      <td>male</td>\n",
       "    </tr>\n",
       "    <tr>\n",
       "      <th>1</th>\n",
       "      <td>1735</td>\n",
       "      <td>Sweden</td>\n",
       "      <td>ios</td>\n",
       "      <td>male</td>\n",
       "    </tr>\n",
       "    <tr>\n",
       "      <th>2</th>\n",
       "      <td>7697</td>\n",
       "      <td>Russia</td>\n",
       "      <td>android</td>\n",
       "      <td>male</td>\n",
       "    </tr>\n",
       "    <tr>\n",
       "      <th>3</th>\n",
       "      <td>1421</td>\n",
       "      <td>Sweden</td>\n",
       "      <td>android</td>\n",
       "      <td>female</td>\n",
       "    </tr>\n",
       "    <tr>\n",
       "      <th>4</th>\n",
       "      <td>1704</td>\n",
       "      <td>Russia</td>\n",
       "      <td>ios</td>\n",
       "      <td>male</td>\n",
       "    </tr>\n",
       "  </tbody>\n",
       "</table>\n",
       "</div>"
      ],
      "text/plain": [
       "   user_id country platform     sex\n",
       "0     8029  Russia      ios    male\n",
       "1     1735  Sweden      ios    male\n",
       "2     7697  Russia  android    male\n",
       "3     1421  Sweden  android  female\n",
       "4     1704  Russia      ios    male"
      ]
     },
     "execution_count": 2,
     "metadata": {},
     "output_type": "execute_result"
    }
   ],
   "source": [
    "users = pd.read_csv('Проект_4_active_users.csv', sep=',')\n",
    "users.head()"
   ]
  },
  {
   "cell_type": "code",
   "execution_count": 3,
   "metadata": {},
   "outputs": [
    {
     "data": {
      "text/plain": [
       "(8341, 4)"
      ]
     },
     "execution_count": 3,
     "metadata": {},
     "output_type": "execute_result"
    }
   ],
   "source": [
    "users.shape"
   ]
  },
  {
   "cell_type": "code",
   "execution_count": 4,
   "metadata": {},
   "outputs": [
    {
     "data": {
      "text/plain": [
       "user_id     8341\n",
       "country        2\n",
       "platform       2\n",
       "sex            2\n",
       "dtype: int64"
      ]
     },
     "execution_count": 4,
     "metadata": {},
     "output_type": "execute_result"
    }
   ],
   "source": [
    "users.nunique()"
   ]
  },
  {
   "cell_type": "code",
   "execution_count": 5,
   "metadata": {},
   "outputs": [
    {
     "data": {
      "text/html": [
       "<div>\n",
       "<style scoped>\n",
       "    .dataframe tbody tr th:only-of-type {\n",
       "        vertical-align: middle;\n",
       "    }\n",
       "\n",
       "    .dataframe tbody tr th {\n",
       "        vertical-align: top;\n",
       "    }\n",
       "\n",
       "    .dataframe thead th {\n",
       "        text-align: right;\n",
       "    }\n",
       "</style>\n",
       "<table border=\"1\" class=\"dataframe\">\n",
       "  <thead>\n",
       "    <tr style=\"text-align: right;\">\n",
       "      <th></th>\n",
       "      <th>user_id</th>\n",
       "      <th>group</th>\n",
       "    </tr>\n",
       "  </thead>\n",
       "  <tbody>\n",
       "    <tr>\n",
       "      <th>0</th>\n",
       "      <td>9149</td>\n",
       "      <td>B</td>\n",
       "    </tr>\n",
       "    <tr>\n",
       "      <th>1</th>\n",
       "      <td>9150</td>\n",
       "      <td>B</td>\n",
       "    </tr>\n",
       "    <tr>\n",
       "      <th>2</th>\n",
       "      <td>9151</td>\n",
       "      <td>A</td>\n",
       "    </tr>\n",
       "    <tr>\n",
       "      <th>3</th>\n",
       "      <td>9152</td>\n",
       "      <td>B</td>\n",
       "    </tr>\n",
       "    <tr>\n",
       "      <th>4</th>\n",
       "      <td>9153</td>\n",
       "      <td>B</td>\n",
       "    </tr>\n",
       "  </tbody>\n",
       "</table>\n",
       "</div>"
      ],
      "text/plain": [
       "   user_id group\n",
       "0     9149     B\n",
       "1     9150     B\n",
       "2     9151     A\n",
       "3     9152     B\n",
       "4     9153     B"
      ]
     },
     "execution_count": 5,
     "metadata": {},
     "output_type": "execute_result"
    }
   ],
   "source": [
    "groups_AB = pd.read_csv('Проект_4_groups.csv', sep=',')\n",
    "groups_AB.head()"
   ]
  },
  {
   "cell_type": "code",
   "execution_count": 6,
   "metadata": {},
   "outputs": [
    {
     "data": {
      "text/plain": [
       "(74576, 2)"
      ]
     },
     "execution_count": 6,
     "metadata": {},
     "output_type": "execute_result"
    }
   ],
   "source": [
    "groups_AB.shape"
   ]
  },
  {
   "cell_type": "code",
   "execution_count": 7,
   "metadata": {},
   "outputs": [
    {
     "data": {
      "text/html": [
       "<div>\n",
       "<style scoped>\n",
       "    .dataframe tbody tr th:only-of-type {\n",
       "        vertical-align: middle;\n",
       "    }\n",
       "\n",
       "    .dataframe tbody tr th {\n",
       "        vertical-align: top;\n",
       "    }\n",
       "\n",
       "    .dataframe thead th {\n",
       "        text-align: right;\n",
       "    }\n",
       "</style>\n",
       "<table border=\"1\" class=\"dataframe\">\n",
       "  <thead>\n",
       "    <tr style=\"text-align: right;\">\n",
       "      <th></th>\n",
       "      <th>user_id</th>\n",
       "      <th>revenue</th>\n",
       "    </tr>\n",
       "  </thead>\n",
       "  <tbody>\n",
       "    <tr>\n",
       "      <th>0</th>\n",
       "      <td>4412</td>\n",
       "      <td>1000.0</td>\n",
       "    </tr>\n",
       "    <tr>\n",
       "      <th>1</th>\n",
       "      <td>9000</td>\n",
       "      <td>701.0</td>\n",
       "    </tr>\n",
       "    <tr>\n",
       "      <th>2</th>\n",
       "      <td>9001</td>\n",
       "      <td>700.0</td>\n",
       "    </tr>\n",
       "    <tr>\n",
       "      <th>3</th>\n",
       "      <td>9002</td>\n",
       "      <td>702.0</td>\n",
       "    </tr>\n",
       "    <tr>\n",
       "      <th>4</th>\n",
       "      <td>5790</td>\n",
       "      <td>1002.0</td>\n",
       "    </tr>\n",
       "  </tbody>\n",
       "</table>\n",
       "</div>"
      ],
      "text/plain": [
       "   user_id  revenue\n",
       "0     4412   1000.0\n",
       "1     9000    701.0\n",
       "2     9001    700.0\n",
       "3     9002    702.0\n",
       "4     5790   1002.0"
      ]
     },
     "execution_count": 7,
     "metadata": {},
     "output_type": "execute_result"
    }
   ],
   "source": [
    "purchases = pd.read_csv('Проект_4_purchases.csv', sep=',')\n",
    "purchases.head()"
   ]
  },
  {
   "cell_type": "code",
   "execution_count": 8,
   "metadata": {},
   "outputs": [
    {
     "data": {
      "text/plain": [
       "(541, 2)"
      ]
     },
     "execution_count": 8,
     "metadata": {},
     "output_type": "execute_result"
    }
   ],
   "source": [
    "purchases.shape"
   ]
  },
  {
   "cell_type": "code",
   "execution_count": 9,
   "metadata": {},
   "outputs": [
    {
     "data": {
      "text/html": [
       "<div>\n",
       "<style scoped>\n",
       "    .dataframe tbody tr th:only-of-type {\n",
       "        vertical-align: middle;\n",
       "    }\n",
       "\n",
       "    .dataframe tbody tr th {\n",
       "        vertical-align: top;\n",
       "    }\n",
       "\n",
       "    .dataframe thead th {\n",
       "        text-align: right;\n",
       "    }\n",
       "</style>\n",
       "<table border=\"1\" class=\"dataframe\">\n",
       "  <thead>\n",
       "    <tr style=\"text-align: right;\">\n",
       "      <th></th>\n",
       "      <th>user_id</th>\n",
       "      <th>country</th>\n",
       "      <th>platform</th>\n",
       "      <th>sex</th>\n",
       "      <th>group</th>\n",
       "      <th>revenue</th>\n",
       "    </tr>\n",
       "  </thead>\n",
       "  <tbody>\n",
       "    <tr>\n",
       "      <th>0</th>\n",
       "      <td>8029</td>\n",
       "      <td>Russia</td>\n",
       "      <td>ios</td>\n",
       "      <td>male</td>\n",
       "      <td>B</td>\n",
       "      <td>NaN</td>\n",
       "    </tr>\n",
       "    <tr>\n",
       "      <th>1</th>\n",
       "      <td>1735</td>\n",
       "      <td>Sweden</td>\n",
       "      <td>ios</td>\n",
       "      <td>male</td>\n",
       "      <td>B</td>\n",
       "      <td>NaN</td>\n",
       "    </tr>\n",
       "    <tr>\n",
       "      <th>2</th>\n",
       "      <td>7697</td>\n",
       "      <td>Russia</td>\n",
       "      <td>android</td>\n",
       "      <td>male</td>\n",
       "      <td>B</td>\n",
       "      <td>NaN</td>\n",
       "    </tr>\n",
       "    <tr>\n",
       "      <th>3</th>\n",
       "      <td>1421</td>\n",
       "      <td>Sweden</td>\n",
       "      <td>android</td>\n",
       "      <td>female</td>\n",
       "      <td>B</td>\n",
       "      <td>NaN</td>\n",
       "    </tr>\n",
       "    <tr>\n",
       "      <th>4</th>\n",
       "      <td>1704</td>\n",
       "      <td>Russia</td>\n",
       "      <td>ios</td>\n",
       "      <td>male</td>\n",
       "      <td>B</td>\n",
       "      <td>NaN</td>\n",
       "    </tr>\n",
       "  </tbody>\n",
       "</table>\n",
       "</div>"
      ],
      "text/plain": [
       "   user_id country platform     sex group  revenue\n",
       "0     8029  Russia      ios    male     B      NaN\n",
       "1     1735  Sweden      ios    male     B      NaN\n",
       "2     7697  Russia  android    male     B      NaN\n",
       "3     1421  Sweden  android  female     B      NaN\n",
       "4     1704  Russia      ios    male     B      NaN"
      ]
     },
     "execution_count": 9,
     "metadata": {},
     "output_type": "execute_result"
    }
   ],
   "source": [
    "df = users.merge(groups_AB, on='user_id', how='left').merge(purchases, how='left', on='user_id')\n",
    "df.head()"
   ]
  },
  {
   "cell_type": "code",
   "execution_count": 10,
   "metadata": {},
   "outputs": [],
   "source": [
    "# Заменим NaN на 0\n",
    "df.revenue.fillna(0, inplace=True)"
   ]
  },
  {
   "cell_type": "code",
   "execution_count": 11,
   "metadata": {},
   "outputs": [
    {
     "data": {
      "text/html": [
       "<div>\n",
       "<style scoped>\n",
       "    .dataframe tbody tr th:only-of-type {\n",
       "        vertical-align: middle;\n",
       "    }\n",
       "\n",
       "    .dataframe tbody tr th {\n",
       "        vertical-align: top;\n",
       "    }\n",
       "\n",
       "    .dataframe thead th {\n",
       "        text-align: right;\n",
       "    }\n",
       "</style>\n",
       "<table border=\"1\" class=\"dataframe\">\n",
       "  <thead>\n",
       "    <tr style=\"text-align: right;\">\n",
       "      <th></th>\n",
       "      <th>group</th>\n",
       "      <th>user_id</th>\n",
       "    </tr>\n",
       "  </thead>\n",
       "  <tbody>\n",
       "    <tr>\n",
       "      <th>0</th>\n",
       "      <td>A</td>\n",
       "      <td>1538</td>\n",
       "    </tr>\n",
       "    <tr>\n",
       "      <th>1</th>\n",
       "      <td>B</td>\n",
       "      <td>6803</td>\n",
       "    </tr>\n",
       "  </tbody>\n",
       "</table>\n",
       "</div>"
      ],
      "text/plain": [
       "  group  user_id\n",
       "0     A     1538\n",
       "1     B     6803"
      ]
     },
     "execution_count": 11,
     "metadata": {},
     "output_type": "execute_result"
    }
   ],
   "source": [
    "df.groupby('group', as_index=False).agg({'user_id': 'count'})"
   ]
  },
  {
   "cell_type": "markdown",
   "metadata": {},
   "source": [
    "Проведем небольшой эксплораторный анализ. Для этого посмотрим тип данных датафрейма, его размер, проверим отсутствующие значения и проверим основные статистические показатели."
   ]
  },
  {
   "cell_type": "code",
   "execution_count": 12,
   "metadata": {},
   "outputs": [
    {
     "data": {
      "text/plain": [
       "(8341, 6)"
      ]
     },
     "execution_count": 12,
     "metadata": {},
     "output_type": "execute_result"
    }
   ],
   "source": [
    "df.shape"
   ]
  },
  {
   "cell_type": "markdown",
   "metadata": {},
   "source": [
    "Датафрейм включает в себя 8341 строку и 6 столбцов (при этом количество пользователей совершивших оплату всего 541). Для проверки гипотезы об успешности новой модели оплаты, мы будем учитывать только активных пользователей (пользователей попавших под тестирование было 74576, но мы будем учитывать только активных пользователей."
   ]
  },
  {
   "cell_type": "code",
   "execution_count": 13,
   "metadata": {},
   "outputs": [
    {
     "data": {
      "text/plain": [
       "user_id       int64\n",
       "country      object\n",
       "platform     object\n",
       "sex          object\n",
       "group        object\n",
       "revenue     float64\n",
       "dtype: object"
      ]
     },
     "execution_count": 13,
     "metadata": {},
     "output_type": "execute_result"
    }
   ],
   "source": [
    "df.dtypes"
   ]
  },
  {
   "cell_type": "code",
   "execution_count": 14,
   "metadata": {},
   "outputs": [
    {
     "data": {
      "text/plain": [
       "user_id     0\n",
       "country     0\n",
       "platform    0\n",
       "sex         0\n",
       "group       0\n",
       "revenue     0\n",
       "dtype: int64"
      ]
     },
     "execution_count": 14,
     "metadata": {},
     "output_type": "execute_result"
    }
   ],
   "source": [
    "df.isna().sum()\n",
    "# в датафрейме отсутствуют пропущенные значения"
   ]
  },
  {
   "cell_type": "code",
   "execution_count": 15,
   "metadata": {},
   "outputs": [
    {
     "data": {
      "text/html": [
       "<div>\n",
       "<style scoped>\n",
       "    .dataframe tbody tr th:only-of-type {\n",
       "        vertical-align: middle;\n",
       "    }\n",
       "\n",
       "    .dataframe tbody tr th {\n",
       "        vertical-align: top;\n",
       "    }\n",
       "\n",
       "    .dataframe thead th {\n",
       "        text-align: right;\n",
       "    }\n",
       "</style>\n",
       "<table border=\"1\" class=\"dataframe\">\n",
       "  <thead>\n",
       "    <tr style=\"text-align: right;\">\n",
       "      <th></th>\n",
       "      <th>user_id</th>\n",
       "      <th>revenue</th>\n",
       "    </tr>\n",
       "  </thead>\n",
       "  <tbody>\n",
       "    <tr>\n",
       "      <th>count</th>\n",
       "      <td>8341.00</td>\n",
       "      <td>8341.00</td>\n",
       "    </tr>\n",
       "    <tr>\n",
       "      <th>mean</th>\n",
       "      <td>4170.00</td>\n",
       "      <td>56.55</td>\n",
       "    </tr>\n",
       "    <tr>\n",
       "      <th>std</th>\n",
       "      <td>2407.98</td>\n",
       "      <td>311.35</td>\n",
       "    </tr>\n",
       "    <tr>\n",
       "      <th>min</th>\n",
       "      <td>0.00</td>\n",
       "      <td>0.00</td>\n",
       "    </tr>\n",
       "    <tr>\n",
       "      <th>25%</th>\n",
       "      <td>2085.00</td>\n",
       "      <td>0.00</td>\n",
       "    </tr>\n",
       "    <tr>\n",
       "      <th>50%</th>\n",
       "      <td>4170.00</td>\n",
       "      <td>0.00</td>\n",
       "    </tr>\n",
       "    <tr>\n",
       "      <th>75%</th>\n",
       "      <td>6255.00</td>\n",
       "      <td>0.00</td>\n",
       "    </tr>\n",
       "    <tr>\n",
       "      <th>max</th>\n",
       "      <td>8340.00</td>\n",
       "      <td>4660.00</td>\n",
       "    </tr>\n",
       "  </tbody>\n",
       "</table>\n",
       "</div>"
      ],
      "text/plain": [
       "       user_id  revenue\n",
       "count  8341.00  8341.00\n",
       "mean   4170.00    56.55\n",
       "std    2407.98   311.35\n",
       "min       0.00     0.00\n",
       "25%    2085.00     0.00\n",
       "50%    4170.00     0.00\n",
       "75%    6255.00     0.00\n",
       "max    8340.00  4660.00"
      ]
     },
     "execution_count": 15,
     "metadata": {},
     "output_type": "execute_result"
    }
   ],
   "source": [
    "df.describe().round(2)"
   ]
  },
  {
   "cell_type": "markdown",
   "metadata": {},
   "source": [
    "Рассчитаем conversion rate (CR) для каждой из групп и посмотрим на уровень конверсии в покупку для каждой. Но перед этим рассчитаем число активных пользователей и пользователей, которые произвели оплату в разрезе групп:"
   ]
  },
  {
   "cell_type": "code",
   "execution_count": 16,
   "metadata": {},
   "outputs": [
    {
     "name": "stdout",
     "output_type": "stream",
     "text": [
      "group A 1538\n",
      "group B 6803\n",
      "group A pay 78\n",
      "group B pay 314\n"
     ]
    }
   ],
   "source": [
    "users_A = df.query('group == \"A\"')['user_id'].count()\n",
    "users_B = df.query('group == \"B\"')['user_id'].count()\n",
    "users_A_pay = df.query(\"group == 'A' and revenue > 0\")['user_id'].count()\n",
    "users_B_pay = df.query(\"group == 'B' and revenue > 0\")['user_id'].count()\n",
    "print('group A', users_A)\n",
    "print('group B', users_B)\n",
    "print('group A pay', users_A_pay)\n",
    "print('group B pay', users_B_pay)"
   ]
  },
  {
   "cell_type": "code",
   "execution_count": 17,
   "metadata": {},
   "outputs": [
    {
     "name": "stdout",
     "output_type": "stream",
     "text": [
      "CR group A 5.07 CR group B 4.62\n"
     ]
    }
   ],
   "source": [
    "CR_A = (users_A_pay / users_A * 100).round(2)\n",
    "CR_B = (users_B_pay / users_B * 100).round(2)\n",
    "print('CR group A', CR_A, 'CR group B', CR_B)"
   ]
  },
  {
   "cell_type": "markdown",
   "metadata": {},
   "source": [
    "По итогам расчета видно, что уровень конверсии в тестовой группе ниже, чем в контрольной. Для того, чтобы понять так ли это, мы проведем статистическую оценку вероятности.\n",
    "Поскольку конверсия имеет дискретное распределение вероятностей, вероятность которого равна либо 1, либо 0. Пользователь либо оплачивает покупку (1), либо не оплачивает (0).\n",
    "Раз мы хотим проверить гипотезу по конверсии, которая является категориальной переменной, соответствующей дискретному распределению, мы рассчитаем chi2 и проверим нулевую гипотезу: распределение пользователей, которые платят и не платят в контрольной и тестовой группе не различается."
   ]
  },
  {
   "cell_type": "code",
   "execution_count": 18,
   "metadata": {},
   "outputs": [],
   "source": [
    "df['pay_notpay'] = df.revenue.apply(lambda x: 'pay' if x > 0 else 'notpay')"
   ]
  },
  {
   "cell_type": "code",
   "execution_count": 19,
   "metadata": {},
   "outputs": [
    {
     "data": {
      "text/html": [
       "<div>\n",
       "<style scoped>\n",
       "    .dataframe tbody tr th:only-of-type {\n",
       "        vertical-align: middle;\n",
       "    }\n",
       "\n",
       "    .dataframe tbody tr th {\n",
       "        vertical-align: top;\n",
       "    }\n",
       "\n",
       "    .dataframe thead th {\n",
       "        text-align: right;\n",
       "    }\n",
       "</style>\n",
       "<table border=\"1\" class=\"dataframe\">\n",
       "  <thead>\n",
       "    <tr style=\"text-align: right;\">\n",
       "      <th>group</th>\n",
       "      <th>A</th>\n",
       "      <th>B</th>\n",
       "    </tr>\n",
       "    <tr>\n",
       "      <th>pay_notpay</th>\n",
       "      <th></th>\n",
       "      <th></th>\n",
       "    </tr>\n",
       "  </thead>\n",
       "  <tbody>\n",
       "    <tr>\n",
       "      <th>notpay</th>\n",
       "      <td>1460</td>\n",
       "      <td>6489</td>\n",
       "    </tr>\n",
       "    <tr>\n",
       "      <th>pay</th>\n",
       "      <td>78</td>\n",
       "      <td>314</td>\n",
       "    </tr>\n",
       "  </tbody>\n",
       "</table>\n",
       "</div>"
      ],
      "text/plain": [
       "group          A     B\n",
       "pay_notpay            \n",
       "notpay      1460  6489\n",
       "pay           78   314"
      ]
     },
     "execution_count": 19,
     "metadata": {},
     "output_type": "execute_result"
    }
   ],
   "source": [
    "pd.crosstab(df.pay_notpay, df.group, values=df.user_id, aggfunc='count')"
   ]
  },
  {
   "cell_type": "code",
   "execution_count": 20,
   "metadata": {},
   "outputs": [
    {
     "data": {
      "text/plain": [
       "(0.48480826522557896, 0.48625240457231045)"
      ]
     },
     "execution_count": 20,
     "metadata": {},
     "output_type": "execute_result"
    }
   ],
   "source": [
    "stat, p, dof, expected = chi2_contingency(pd.crosstab(df.pay_notpay, df.group, values=df.user_id, aggfunc='count'))\n",
    "stat, p"
   ]
  },
  {
   "cell_type": "code",
   "execution_count": 21,
   "metadata": {},
   "outputs": [
    {
     "data": {
      "text/plain": [
       "\"prob = 0.95\\ncritical = chi2.ppf(prob, dof)\\nif abs(stat) >= critical:\\n    print('Отклоняем H0')\\nelse:\\n    print('Не отклоняем H0')\""
      ]
     },
     "execution_count": 21,
     "metadata": {},
     "output_type": "execute_result"
    }
   ],
   "source": [
    "\"\"\"prob = 0.95\n",
    "critical = chi2.ppf(prob, dof)\n",
    "if abs(stat) >= critical:\n",
    "    print('Отклоняем H0')\n",
    "else:\n",
    "    print('Не отклоняем H0')\"\"\""
   ]
  },
  {
   "cell_type": "code",
   "execution_count": 22,
   "metadata": {},
   "outputs": [
    {
     "name": "stdout",
     "output_type": "stream",
     "text": [
      "Не отклоняем H0\n"
     ]
    }
   ],
   "source": [
    "prob = 0.95\n",
    "alpha = 1.0 - prob\n",
    "if p <= alpha:\n",
    "    print('Отклоняем H0')\n",
    "else:\n",
    "    print('Не отклоняем H0')"
   ]
  },
  {
   "cell_type": "markdown",
   "metadata": {},
   "source": [
    "Предположим, что основным фактором для принятия решения о применении новой модели на всех пользователях, будет являтся важный показатель выручки. Именно поэтому мы будет смотреть среднее значение revenue и проверять гипотезу групп А и В в разрезе выручки. \n",
    "Для начала рассчитаем среднее значение показателя revenue для контрольной и тестовой групп:"
   ]
  },
  {
   "cell_type": "code",
   "execution_count": 23,
   "metadata": {},
   "outputs": [
    {
     "data": {
      "text/plain": [
       "group\n",
       "A    47.853056\n",
       "B    58.520212\n",
       "dtype: float64"
      ]
     },
     "execution_count": 23,
     "metadata": {},
     "output_type": "execute_result"
    }
   ],
   "source": [
    "pd.crosstab(df.user_id, df.group, values=df.revenue,\n",
    "            aggfunc='sum').mean()"
   ]
  },
  {
   "cell_type": "markdown",
   "metadata": {},
   "source": [
    "Далее стоит посмотреть на распределение выручки по группам."
   ]
  },
  {
   "cell_type": "code",
   "execution_count": 24,
   "metadata": {},
   "outputs": [],
   "source": [
    "df_rev = df.query('revenue > 0')\n",
    "# исключим пользователей, которые не платили"
   ]
  },
  {
   "cell_type": "code",
   "execution_count": 25,
   "metadata": {},
   "outputs": [
    {
     "name": "stderr",
     "output_type": "stream",
     "text": [
      "/opt/tljh/user/lib/python3.7/site-packages/seaborn/distributions.py:2557: FutureWarning: `distplot` is a deprecated function and will be removed in a future version. Please adapt your code to use either `displot` (a figure-level function with similar flexibility) or `histplot` (an axes-level function for histograms).\n",
      "  warnings.warn(msg, FutureWarning)\n"
     ]
    },
    {
     "data": {
      "text/plain": [
       "<matplotlib.axes._subplots.AxesSubplot at 0x7f439d584b38>"
      ]
     },
     "execution_count": 25,
     "metadata": {},
     "output_type": "execute_result"
    },
    {
     "data": {
      "image/png": "[encoded data removed]",
      "text/plain": [
       "<Figure size 432x288 with 1 Axes>"
      ]
     },
     "metadata": {
      "needs_background": "light"
     },
     "output_type": "display_data"
    }
   ],
   "source": [
    "sns.distplot(df_rev.revenue)"
   ]
  },
  {
   "cell_type": "markdown",
   "metadata": {},
   "source": [
    "Видно, что распредление несколько отклоняется от нормального и возможно присутствуют выбросы. Поэтому прежде чем проверять нулевую гипотезу, используя параметрические или непараметрические критерии оценки, нужно проверить нормальность распределения выборки, для этого построим гистограмму и рассчитаем критерий Шапиро-Уилка:"
   ]
  },
  {
   "cell_type": "code",
   "execution_count": 26,
   "metadata": {},
   "outputs": [
    {
     "data": {
      "text/plain": [
       "ShapiroResult(statistic=0.7358548641204834, pvalue=1.5417730980793465e-10)"
      ]
     },
     "execution_count": 26,
     "metadata": {},
     "output_type": "execute_result"
    }
   ],
   "source": [
    "ss.shapiro(df_rev.query('group == \"A\"').revenue)\n",
    "# p-value < 0.05, следовательно распределение не является нормальным"
   ]
  },
  {
   "cell_type": "code",
   "execution_count": 27,
   "metadata": {},
   "outputs": [
    {
     "data": {
      "text/plain": [
       "ShapiroResult(statistic=0.8552882671356201, pvalue=1.665431681028873e-16)"
      ]
     },
     "execution_count": 27,
     "metadata": {},
     "output_type": "execute_result"
    }
   ],
   "source": [
    "ss.shapiro(df_rev.query('group == \"B\"').revenue)\n",
    "# p-value < 0.05, следовательно распределение не является нормальным"
   ]
  },
  {
   "cell_type": "markdown",
   "metadata": {},
   "source": [
    "Несмотря на результаты расчета критерия Шапиро-Уилка, учитывая большое количество наблюдений в выборке, результаты расчета критерия Стьюдента считаем действительными (https://stats.stackexchange.com/questions/9573/t-test-for-non-normal-when-n50)"
   ]
  },
  {
   "cell_type": "code",
   "execution_count": 28,
   "metadata": {},
   "outputs": [
    {
     "data": {
      "text/plain": [
       "Ttest_indResult(statistic=-3.134033935298925, pvalue=0.0018546337642145053)"
      ]
     },
     "execution_count": 28,
     "metadata": {},
     "output_type": "execute_result"
    }
   ],
   "source": [
    "ttest_ind(df_rev.query('group == \"A\"').revenue,\n",
    "          df_rev.query('group == \"B\"').revenue)"
   ]
  },
  {
   "cell_type": "markdown",
   "metadata": {},
   "source": [
    "Ввиду того, что p-value < 0.05, мы отклоняем нулевую гипотезу. К тому же среднее значение оплат в тестовой группе выше среднего значения в контрольной группе, что тоже говорит о возможной успешности новой модели.\n",
    "Ввиду всего вышеуказанного можно было бы сказать, что эксперимент успешен и можно выкатывать новую модель на остальных пользователей. Но для того, чтобы не принять необдуманных решений, стоит рассмотреть выборку в разрезе имеющихся показателей и попробовать применить еще один непараметрический метод, поскольку распределение в выборке не является нормальным.\n",
    "Используем непараметрический метод – U-критерий Манна-Уитни. Он проранжирует все данные revenue и рассчитает какой средний ранг оказался в первой группе и какой во второй. Этот критерий менее чувствителен к экстремальным отклонениям от нормальности и наличию выбросов."
   ]
  },
  {
   "cell_type": "code",
   "execution_count": 29,
   "metadata": {},
   "outputs": [
    {
     "name": "stdout",
     "output_type": "stream",
     "text": [
      "MannwhitneyuResult(statistic=2925.5, pvalue=0.0014699816493472517)\n",
      "MannwhitneyuResult(statistic=1577.5, pvalue=0.03958280081671394)\n",
      "MannwhitneyuResult(statistic=2630.0, pvalue=0.04925014637316891)\n",
      "MannwhitneyuResult(statistic=113862.5, pvalue=2.0159065098837945e-131)\n",
      "MannwhitneyuResult(statistic=1841.0, pvalue=0.0008191912980826493)\n",
      "MannwhitneyuResult(statistic=2663.0, pvalue=0.06326402745293058)\n"
     ]
    }
   ],
   "source": [
    "RA = df_rev.query('country == \"Russia\" and group == \"A\"').revenue\n",
    "RB = df_rev.query('country == \"Russia\" and group == \"B\"').revenue\n",
    "SA = df_rev.query('country == \"Sweden\" and group == \"A\"').revenue \n",
    "SB = df_rev.query('country == \"Sweden\" and group == \"B\"').revenue\n",
    "AA = df_rev.query('platform == \"android\" and group == \"A\"').revenue\n",
    "AB = df_rev.query('platform == \"android\" and group == \"B\"').revenue\n",
    "IA = df_rev.query('platform == \"ios\" and group == \"A\"').revenue\n",
    "IB = df.query('platform == \"ios\" and group == \"B\"').revenue\n",
    "FA = df_rev.query('sex == \"female\" and group == \"A\"').revenue\n",
    "FB = df_rev.query('sex == \"female\" and group == \"B\"').revenue\n",
    "MA = df_rev.query('sex == \"male\" and group == \"A\"').revenue\n",
    "MB = df_rev.query('sex == \"male\" and group == \"B\"').revenue\n",
    "print(mannwhitneyu(RA, RB))\n",
    "print(mannwhitneyu(SA, SB))\n",
    "print(mannwhitneyu(AA, AB))\n",
    "print(mannwhitneyu(IA, IB))\n",
    "print(mannwhitneyu(FA, FB))\n",
    "print(mannwhitneyu(MA, MB))"
   ]
  },
  {
   "cell_type": "markdown",
   "metadata": {},
   "source": [
    "По итогам этого анализа можно увидеть более интересные результаты. Так, например, при группировке по половому признаку - очевидно, что нулевую гипотезу для мужчин мы отклонить не можем, соответственно и выкатывать на эту группу новую модель не имеет смысла.\n",
    "\n",
    "Но стоит помнить о выбросах в выборке, поэтому лучшим решением будет запросить новую выборку, проверить ее на наличие выбросов и уже тогда принимать решение."
   ]
  },
  {
   "cell_type": "markdown",
   "metadata": {},
   "source": [
    "Ссылка на дашборд\n",
    "https://public.tableau.com/app/profile/anastasia1983/viz/final_project4_a-poplavskaja-20_corr/Users_rev"
   ]
  }
 ],
 "metadata": {
  "kernelspec": {
   "display_name": "Python 3",
   "language": "python",
   "name": "python3"
  },
  "language_info": {
   "codemirror_mode": {
    "name": "ipython",
    "version": 3
   },
   "file_extension": ".py",
   "mimetype": "text/x-python",
   "name": "python",
   "nbconvert_exporter": "python",
   "pygments_lexer": "ipython3",
   "version": "3.7.3"
  }
 },
 "nbformat": 4,
 "nbformat_minor": 4
}
